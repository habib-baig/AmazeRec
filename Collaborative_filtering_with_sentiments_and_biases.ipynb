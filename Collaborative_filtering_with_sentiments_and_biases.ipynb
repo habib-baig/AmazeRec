{
 "cells": [
  {
   "cell_type": "code",
   "execution_count": 1,
   "metadata": {
    "collapsed": true
   },
   "outputs": [],
   "source": [
    "from collections import Counter\n",
    "import pandas as pd\n",
    "from string import punctuation\n",
    "from nltk.corpus import stopwords\n",
    "from nltk.tokenize import word_tokenize\n",
    "import re\n",
    "import numpy as np\n",
    "from scipy.stats.stats import pearsonr\n",
    "from sklearn.model_selection import train_test_split\n",
    "from sklearn.utils import shuffle\n",
    "from scipy.stats.stats import pearsonr\n",
    "from sklearn.metrics import mean_absolute_error\n",
    "from sklearn.metrics import mean_squared_error"
   ]
  },
  {
   "cell_type": "code",
   "execution_count": 2,
   "metadata": {
    "collapsed": true
   },
   "outputs": [],
   "source": [
    "already_extracted=True\n",
    "def parse(path):\n",
    "  g = gzip.open(path, 'rb')\n",
    "  for l in g:\n",
    "    yield eval(l)\n",
    "\n",
    "def getDF(path):\n",
    "  i = 0\n",
    "  df = {}\n",
    "  for d in parse(path):\n",
    "    df[i] = d\n",
    "    i += 1\n",
    "  return pd.DataFrame.from_dict(df, orient='index')\n",
    "\n",
    "if already_extracted:\n",
    "    df = pd.read_pickle('../reviews_Kindle_Store_10_training.h5')\n",
    "    Training_DataFrame = pd.read_pickle('../reviews_Kindle_Store_10_training.h5')\n",
    "    Testing_DataFrame = pd.read_pickle('../reviews_Kindle_Store_10_testing.h5')\n",
    "else:\n",
    "    df = getDF('../reviews_Kindle_Store_5.json.gz')\n",
    "    df = shuffle(df)\n",
    "    Training_DataFrame, Testing_DataFrame = train_test_split(df, test_size=0.2)"
   ]
  },
  {
   "cell_type": "code",
   "execution_count": 3,
   "metadata": {},
   "outputs": [
    {
     "name": "stdout",
     "output_type": "stream",
     "text": [
      "(453086, 13)\n",
      "(50343, 13)\n"
     ]
    }
   ],
   "source": [
    "print Training_DataFrame.shape\n",
    "print Testing_DataFrame.shape"
   ]
  },
  {
   "cell_type": "code",
   "execution_count": 4,
   "metadata": {},
   "outputs": [
    {
     "name": "stdout",
     "output_type": "stream",
     "text": [
      "Dataset details:\n",
      "Number of item: 22203\n",
      "Number of Users: 26466\n",
      "Number of ratings: 5\n",
      "\n",
      "\n"
     ]
    }
   ],
   "source": [
    "print \"Dataset details:\"\n",
    "Uniq_items =  len(set(df['asin'].values))\n",
    "print \"Number of item:\", Uniq_items\n",
    "Uniq_users =   len(set(df['reviewerID'].values))\n",
    "print \"Number of Users:\", Uniq_users\n",
    "Uniq_ratings = len(set(df['overall'].values))\n",
    "print \"Number of ratings:\", Uniq_ratings\n",
    "print \"\\n\""
   ]
  },
  {
   "cell_type": "code",
   "execution_count": 5,
   "metadata": {
    "collapsed": true
   },
   "outputs": [],
   "source": [
    "#Training_DataFrame=Training_DataFrame[:5000]\n",
    "Training_DataFrame.columns\n",
    "# Lists of unique items and users\n",
    "item_list = list(set(df['asin'].values))\n",
    "user_list = list(set(df['reviewerID'].values))\n",
    "\n",
    "#Storing the indices of users to generate the Rating Memory Matrix\n",
    "UserIndices={}\n",
    "for i in range(len(user_list)):\n",
    "    UserIndices[user_list[i]] = i\n",
    "\n",
    "#Storing the indices of items to generate the Rating Memory Matrix\n",
    "#These indices will be used to populate the UsersRatingMemory for Memory based Collaborative Filtering\n",
    "itemIndices={}\n",
    "for j in range(len(item_list)):\n",
    "    itemIndices[item_list[j]] = j\n",
    "    "
   ]
  },
  {
   "cell_type": "markdown",
   "metadata": {},
   "source": [
    "# Collaborative Filtering with Biases and without Sentiment Scores: "
   ]
  },
  {
   "cell_type": "code",
   "execution_count": 6,
   "metadata": {},
   "outputs": [
    {
     "name": "stdout",
     "output_type": "stream",
     "text": [
      "Average Ratings of the Users are:\n",
      "[4.92307692 5.         3.76923077 ... 3.84615385 3.5        4.64912281]\n"
     ]
    }
   ],
   "source": [
    "#UsersRatingMemory stores the users and corresponding items ratings in Matrix form\n",
    "UsersRatingMemory=np.zeros((Uniq_users,Uniq_items))\n",
    "\n",
    "for i in range(0, len(Training_DataFrame)):\n",
    "    item_id=Training_DataFrame.iloc[i]['asin']\n",
    "    user_id=Training_DataFrame.iloc[i]['reviewerID']\n",
    "    #get user and item indices\n",
    "    user_ind=UserIndices[user_id]\n",
    "    item_ind=itemIndices[item_id]\n",
    "    rating=Training_DataFrame.iloc[i]['overall']\n",
    "    #populate the matrix with rating at corresponding user and item index\n",
    "    UsersRatingMemory[user_ind][item_ind]=float(rating)\n",
    "\n",
    "AvgRatings = np.true_divide(UsersRatingMemory.sum(1),(UsersRatingMemory!=0).sum(1))\n",
    "\n",
    "print \"Average Ratings of the Users are:\"\n",
    "print AvgRatings"
   ]
  },
  {
   "cell_type": "code",
   "execution_count": 23,
   "metadata": {
    "collapsed": true
   },
   "outputs": [],
   "source": [
    "# Your Code Here...\n",
    "def populate_baseline():\n",
    "    '''I have tried and implemented the Baseline appraoch of collaborative filtering as discussed in the class. \n",
    "       I observe that it models the Local and Global Effects of user rating very well.\n",
    "       I stored the baseline ratings \n",
    "\n",
    "        b_xi= u + bx + bi\n",
    "        u = overall mean rating\n",
    "        bx = rating deviation of user x\n",
    "            = (avg. rating of user x) – u\n",
    "        bi = (avg. rating of movie i) – u'''\n",
    "    \n",
    "    AvgRatings = np.true_divide(UsersRatingMemory.sum(1),(UsersRatingMemory!=0).sum(1))\n",
    "    AvgRatingitem= np.true_divide(UsersRatingMemory.sum(0),(UsersRatingMemory!=0).sum(0))\n",
    "    #print AvgRatingitem\n",
    "    global_average=np.true_divide(UsersRatingMemory.sum(),(UsersRatingMemory!=0).sum()) \n",
    "\n",
    "    baseline_matrix=np.zeros((len(AvgRatings),len(AvgRatingitem)))\n",
    "\n",
    "    for i in range(len(AvgRatings)):\n",
    "        for j in range(len(AvgRatingitem)): \n",
    "            baseline_matrix[i][j]=AvgRatings[i]+AvgRatingitem[j]-global_average\n",
    "    return baseline_matrix\n",
    "\n",
    "        \n",
    "def PredictUserRatingBaseline(user_id, item_id):\n",
    "    '''This function predicts the rating based on user_id and item_id'''\n",
    "    item_ind = itemIndices[item_id]\n",
    "    user_ind = UserIndices[user_id]\n",
    "    #ratedindices: it stores the indices of all other users that have rated the item\n",
    "    ratedindices=[]\n",
    "    i=0\n",
    "    for rating in UsersRatingMemory[:,item_ind]:\n",
    "        if i==user_ind:\n",
    "            continue\n",
    "        if rating !=0:\n",
    "            ratedindices.append(i)\n",
    "        i+=1\n",
    "    #itemRatingsOthers: stores other users ratings\n",
    "    itemRatingsOthers = UsersRatingMemory[ratedindices, item_ind]\n",
    "    #Store the pearson coefficents\n",
    "    PearsonCoeffs=[]\n",
    "    k=0.001\n",
    "    for ind in ratedindices:\n",
    "        PearsonCoeffs.append(pearsonr(UsersRatingMemory[ind],UsersRatingMemory[user_ind])[0])\n",
    "\n",
    "    # Calculate the prediction\n",
    "    pred = baseline_matrix[user_ind][item_ind] + k * np.sum( PearsonCoeffs* (itemRatingsOthers - baseline_matrix[[ratedindices],item_ind]))\n",
    "    return pred\n",
    "\n",
    "def TestBaseline(no_of_samples):\n",
    "    '''This function returns the predictions for given no of samples'''\n",
    "    Predictions=np.zeros(no_of_samples)\n",
    "    for i in range(no_of_samples):\n",
    "        item_id=Testing_DataFrame.iloc[i]['asin']\n",
    "        user_id=Testing_DataFrame.iloc[i]['reviewerID']\n",
    "        Predictions[i]=PredictUserRatingBaseline(user_id,item_id)\n",
    "    return Predictions\n"
   ]
  },
  {
   "cell_type": "code",
   "execution_count": null,
   "metadata": {
    "collapsed": true
   },
   "outputs": [],
   "source": [
    "baseline_matrix=populate_baseline()\n",
    "print baseline_matrix"
   ]
  },
  {
   "cell_type": "code",
   "execution_count": 24,
   "metadata": {},
   "outputs": [
    {
     "name": "stdout",
     "output_type": "stream",
     "text": [
      "[[4.76347335 5.43807653 5.24918764 ... 4.54918764 3.86168764 4.96585431]\n",
      " [4.84039643 5.51499961 5.32611072 ... 4.62611072 3.93861072 5.04277738]\n",
      " [3.6096272  4.28423037 4.09534149 ... 3.39534149 2.70784149 3.81200815]\n",
      " ...\n",
      " [3.68655028 4.36115345 4.17226456 ... 3.47226456 2.78476456 3.88893123]\n",
      " [3.34039643 4.01499961 3.82611072 ... 3.12611072 2.43861072 3.54277738]\n",
      " [4.48951924 5.16412241 4.97523352 ... 4.27523352 3.58773352 4.69190019]]\n",
      "For 10 Samples:\n",
      "The Mean Absolute Error is: 0.5426470836682358\n",
      "Root Mean Square Error is: 0.6192298296902573\n"
     ]
    }
   ],
   "source": [
    "Predictions=TestBaseline(10)\n",
    "print \"For 10 Samples:\"\n",
    "print \"The Mean Absolute Error is:\", mean_absolute_error(Predictions, Testing_DataFrame['overall'].values[:10])\n",
    "print \"Root Mean Square Error is:\", np.sqrt(mean_squared_error(Predictions, Testing_DataFrame['overall'].values[:10]))"
   ]
  },
  {
   "cell_type": "code",
   "execution_count": 18,
   "metadata": {
    "collapsed": true
   },
   "outputs": [],
   "source": [
    "def get_other_closest_user(user_ind,k):\n",
    "    PearsonCoeffs={}\n",
    "    for ind in range(len(user_list)):\n",
    "        if ind==user_ind :\n",
    "            continue\n",
    "        else:\n",
    "            PearsonCoeffs[ind]=pearsonr(UsersRatingMemory[ind],UsersRatingMemory[user_ind])[0]\n",
    "        \n",
    "    PearsonCoeffs_sorted=sorted(PearsonCoeffs.items(), key=lambda kv: kv[1], reverse=True)\n",
    "    return [x for x, y in PearsonCoeffs_sorted[:k]]"
   ]
  },
  {
   "cell_type": "code",
   "execution_count": 19,
   "metadata": {
    "collapsed": true
   },
   "outputs": [],
   "source": [
    "def recommender(user_ind):\n",
    "    items_to_recommend=[]\n",
    "    colsest_users=get_other_closest_user(user_ind,20)\n",
    "    for user in colsest_users:\n",
    "        for items in np.nonzero(UsersRatingMemory[user]):\n",
    "            for item in items:\n",
    "                if UsersRatingMemory[user_ind][item] == 0:\n",
    "                    items_to_recommend.append(item_list[item])\n",
    "    \n",
    "    recommendations = {}\n",
    "    for item in items_to_recommend:\n",
    "        recommendations[item] = PredictUserRatingBaseline(user_list[user_ind], item)\n",
    "        \n",
    "    sorted_recommendations = sorted(recommendations.items(), key=lambda kv: kv[1], reverse=True)\n",
    "    return sorted_recommendations"
   ]
  },
  {
   "cell_type": "code",
   "execution_count": 20,
   "metadata": {},
   "outputs": [
    {
     "name": "stdout",
     "output_type": "stream",
     "text": [
      "getting recommendations for user: AO00I2TVC9LBB\n",
      "Top 100 recommendations are For Collaborative Filtering without sentiment Scores ...\n",
      "[('B00KJ7RAYI', 5.5491876393647805), ('B00G66WM4Y', 5.5491876393647805), ('B00LPUXAGK', 5.507520972698113), ('B00A1Q7SQM', 5.496556060417412), ('B00KEXI780', 5.493632083809225), ('B00KWREVQK', 5.482520972698114), ('B00GMSI5BA', 5.472264562441704), ('B00HBY2SSU', 5.472264562441704), ('B00GXLDT9O', 5.465854306031448), ('B00F3OO3IS', 5.465854306031448), ('B00IX330GW', 5.465854306031448), ('B00HSNMKF0', 5.465854306031448), ('B00LYPZJ4M', 5.46223111762565), ('B00KVN6HH6', 5.46223111762565), ('B00KKPKAAU', 5.442804660641376), ('B00JHNAWQS', 5.442044782221923), ('B00JYQARIG', 5.43807652825367), ('B00DDHE79C', 5.4315405805412516), ('B00K3517K4', 5.4201553813002645), ('B00IO05YO0', 5.415854306031448), ('B00JK54RAU', 5.406330496507638), ('B00JF8GMP0', 5.394015225571677), ('B00KF076S4', 5.38918763936478), ('B00KKT5TMU', 5.37775906793621), ('B00JCJAK96', 5.370616210793352), ('B0060AN5A6', 5.367369457546599), ('B00IGI2BHS', 5.367369457546599), ('B00KBAY5ZK', 5.367369457546599), ('B00HBY8SIY', 5.3616876393647805), ('B00KGFB0IK', 5.349187639364781), ('B00K283O3U', 5.349187639364781), ('B00LNUOLOC', 5.349187639364781), ('B00KY7X0OC', 5.329187639364782), ('B00KRQCHYO', 5.320020972698113), ('B00K0PNVEC', 5.318418408595551), ('B00EUSSY3S', 5.311092401269543), ('B00KXIIZKG', 5.30918763936478), ('B00L7DRQME', 5.2991876393647805), ('B00LS3MXVW', 5.2991876393647805), ('B008S29WT2', 5.2991876393647805), ('B00H8APQ68', 5.2991876393647805), ('B00EB713KY', 5.2991876393647805), ('B00BQHACNG', 5.2991876393647805), ('B00BL5VCO6', 5.29337368587641), ('B00JD49EZG', 5.287282877460018), ('B009IV2Q3G', 5.286029744627938), ('B0082SJRMY', 5.285036695968553), ('B009TB004C', 5.282520972698115), ('B00DZZ2KYQ', 5.282520972698115), ('B00FK13WV8', 5.271409861587002), ('B00ILILD1S', 5.269187639364779), ('B00GKKU0OK', 5.2679376393647805), ('B00JA703JC', 5.263473353650496), ('B00G626JKQ', 5.263473353650496), ('B00CNX89CI', 5.263473353650496), ('B00IRLFJ96', 5.24918763936478), ('B009MA8P2O', 5.24918763936478), ('B00JWET7TU', 5.245616210793352), ('B00BN1E6SW', 5.241495331672474), ('B00EWN4P9I', 5.241495331672474), ('B00HNXTHC4', 5.241495331672474), ('B00KZ6LWWO', 5.2366876393647805), ('B00EPZUSYY', 5.231479306031448), ('B00LDEWTMY', 5.215854306031448), ('B00F2NMV5C', 5.215854306031448), ('B00JVQTZ2S', 5.215854306031448), ('B00GKKU12G', 5.2118382417744185), ('B00DE50M2E', 5.21168763936478), ('B008XLF8SM', 5.203033793210934), ('B00LD69NIA', 5.199187639364781), ('B00KAQY2BC', 5.196246462894194), ('B00G2BL50K', 5.19325543597495), ('B00JLYS5US', 5.192044782221923), ('B00JDYC5OI', 5.1878169228538775), ('B00JMSE4QM', 5.185551275728417), ('B00B3KPBSW', 5.182775425624324), ('B00AYIDVLS', 5.180766586733202), ('B00K9ZLW3K', 5.180766586733202), ('B00HCLDV24', 5.180766586733202), ('B00KTI9R6Q', 5.180335180348387), ('B001ISOPTA', 5.1741876393647805), ('B00IP8459G', 5.1741876393647805), ('B00GVZZQ2A', 5.171409861587002), ('B00KF0URBM', 5.166208915960525), ('B004LX069M', 5.1645722547493955), ('B00AP9RMMK', 5.160298750475891), ('B00EYJ2LGY', 5.1578832915386945), ('B00DVYV9HU', 5.156330496507638), ('B00HEKTLPO', 5.14918763936478), ('B00I4ABC3W', 5.14918763936478), ('B00JKW0680', 5.143782233959375), ('B00LRM150O', 5.141780231957372), ('B00JLTRZ18', 5.141780231957372), ('B00HDSGUQ0', 5.13893122910837), ('B00HFDTFVK', 5.128135007785832), ('B00DRL96CC', 5.127500892376829), ('B00ES1OTJ0', 5.120616210793352), ('B00KI0I2ZC', 5.120616210793352), ('B00GNA1DFC', 5.117369457546599), ('B00K6PQBVG', 5.1116876393647805)]\n"
     ]
    }
   ],
   "source": [
    "print \"getting recommendations for user:\", user_list[0]\n",
    "print \"Top 100 recommendations are For Collaborative Filtering without sentiment Scores ...\"\n",
    "recommendations=recommender(0)\n",
    "print recommendations[:100]"
   ]
  },
  {
   "cell_type": "markdown",
   "metadata": {},
   "source": [
    "# Colloboarative Filtering with biases and Sentiment Scores:"
   ]
  },
  {
   "cell_type": "code",
   "execution_count": 25,
   "metadata": {},
   "outputs": [
    {
     "name": "stdout",
     "output_type": "stream",
     "text": [
      "Average Ratings of the Users are:\n",
      "[5.19210769 5.352625   4.11755385 ... 4.19432308 3.7305625  4.78263509]\n"
     ]
    }
   ],
   "source": [
    "UsersRatingMemory_sentiment=np.zeros((Uniq_users,Uniq_items))\n",
    "\n",
    "for i in range(0, len(Training_DataFrame)):\n",
    "    item_id=Training_DataFrame.iloc[i]['asin']\n",
    "    user_id=Training_DataFrame.iloc[i]['reviewerID']\n",
    "    #get user and item indices\n",
    "    user_ind=UserIndices[user_id]\n",
    "    item_ind=itemIndices[item_id]\n",
    "    rating=float(Training_DataFrame.iloc[i]['overall'])\n",
    "    \n",
    "    if Training_DataFrame.iloc[i]['reviewText']:\n",
    "    #populate the matrix with rating at corresponding user and item index\n",
    "        rating=rating + float(Training_DataFrame.iloc[i]['corrected_sent_score'])\n",
    "    \n",
    "    UsersRatingMemory_sentiment[user_ind][item_ind]=rating\n",
    "\n",
    "AvgRating_sentiment = np.true_divide(UsersRatingMemory_sentiment.sum(1),(UsersRatingMemory_sentiment!=0).sum(1))\n",
    "\n",
    "print \"Average Ratings of the Users are:\"\n",
    "print AvgRating_sentiment"
   ]
  },
  {
   "cell_type": "code",
   "execution_count": 22,
   "metadata": {
    "collapsed": true
   },
   "outputs": [],
   "source": [
    "\n",
    "def PredictUserRatingsentiment(user_id, item_id):\n",
    "    '''This function predicts the rating based on user_id and item_id'''\n",
    "    item_ind = itemIndices[item_id]\n",
    "    user_ind = UserIndices[user_id]\n",
    "    #ratedindices: it stores the indices of all other users that have rated the item\n",
    "    ratedindices=[]\n",
    "    i=0\n",
    "    for rating in UsersRatingMemory_sentiment[:,item_ind]:\n",
    "        if i==user_ind:\n",
    "            continue\n",
    "        if rating !=0:\n",
    "            ratedindices.append(i)\n",
    "        i+=1\n",
    "    #itemRatingsOthers: stores other users ratings\n",
    "    itemRatingsOthers = UsersRatingMemory_sentiment[ratedindices, item_ind]\n",
    "    #Store the pearson coefficents\n",
    "    PearsonCoeffs=[]\n",
    "    for ind in ratedindices:\n",
    "        PearsonCoeffs.append(pearsonr(UsersRatingMemory_sentiment[ind],UsersRatingMemory_sentiment[user_ind])[0])\n",
    "    k=0.001\n",
    "    # Calculate the prediction\n",
    "    pred = AvgRating_sentiment[user_ind] + k * np.sum( PearsonCoeffs* (itemRatingsOthers - AvgRating_sentiment[ratedindices]))\n",
    "    return pred\n",
    "\n",
    "def Testsentiment(no_of_samples):\n",
    "    '''This function returns the predictions for given no of samples'''\n",
    "    Predictions=np.zeros(no_of_samples)\n",
    "    for i in range(no_of_samples):\n",
    "        item_id=Testing_DataFrame.iloc[i]['asin']\n",
    "        user_id=Testing_DataFrame.iloc[i]['reviewerID']\n",
    "        Predictions[i]=PredictUserRatingsentiment(user_id,item_id)\n",
    "    return Predictions"
   ]
  },
  {
   "cell_type": "code",
   "execution_count": 23,
   "metadata": {},
   "outputs": [
    {
     "ename": "KeyboardInterrupt",
     "evalue": "",
     "output_type": "error",
     "traceback": [
      "\u001b[0;31m---------------------------------------------------------------------------\u001b[0m",
      "\u001b[0;31mKeyboardInterrupt\u001b[0m                         Traceback (most recent call last)",
      "\u001b[0;32m<ipython-input-23-062f94a448dd>\u001b[0m in \u001b[0;36m<module>\u001b[0;34m()\u001b[0m\n\u001b[1;32m      1\u001b[0m \u001b[0;32mfrom\u001b[0m \u001b[0msklearn\u001b[0m\u001b[0;34m.\u001b[0m\u001b[0mmetrics\u001b[0m \u001b[0;32mimport\u001b[0m \u001b[0mmean_absolute_error\u001b[0m\u001b[0;34m\u001b[0m\u001b[0m\n\u001b[1;32m      2\u001b[0m \u001b[0;32mfrom\u001b[0m \u001b[0msklearn\u001b[0m\u001b[0;34m.\u001b[0m\u001b[0mmetrics\u001b[0m \u001b[0;32mimport\u001b[0m \u001b[0mmean_squared_error\u001b[0m\u001b[0;34m\u001b[0m\u001b[0m\n\u001b[0;32m----> 3\u001b[0;31m \u001b[0mPredictions\u001b[0m\u001b[0;34m=\u001b[0m\u001b[0mTestsentiment\u001b[0m\u001b[0;34m(\u001b[0m\u001b[0;36m1000\u001b[0m\u001b[0;34m)\u001b[0m\u001b[0;34m\u001b[0m\u001b[0m\n\u001b[0m\u001b[1;32m      4\u001b[0m \u001b[0;32mprint\u001b[0m \u001b[0;34m\"For 1000 Samples:\"\u001b[0m\u001b[0;34m\u001b[0m\u001b[0m\n\u001b[1;32m      5\u001b[0m \u001b[0;32mprint\u001b[0m \u001b[0;34m\"The Mean Absolute Error is:\"\u001b[0m\u001b[0;34m,\u001b[0m \u001b[0mmean_absolute_error\u001b[0m\u001b[0;34m(\u001b[0m\u001b[0mPredictions\u001b[0m\u001b[0;34m,\u001b[0m \u001b[0mTesting_DataFrame\u001b[0m\u001b[0;34m[\u001b[0m\u001b[0;34m'overall'\u001b[0m\u001b[0;34m]\u001b[0m\u001b[0;34m.\u001b[0m\u001b[0mvalues\u001b[0m\u001b[0;34m[\u001b[0m\u001b[0;34m:\u001b[0m\u001b[0;36m1000\u001b[0m\u001b[0;34m]\u001b[0m\u001b[0;34m)\u001b[0m\u001b[0;34m\u001b[0m\u001b[0m\n",
      "\u001b[0;32m<ipython-input-22-b25010208284>\u001b[0m in \u001b[0;36mTestsentiment\u001b[0;34m(no_of_samples)\u001b[0m\n\u001b[1;32m     30\u001b[0m         \u001b[0mitem_id\u001b[0m\u001b[0;34m=\u001b[0m\u001b[0mTesting_DataFrame\u001b[0m\u001b[0;34m.\u001b[0m\u001b[0miloc\u001b[0m\u001b[0;34m[\u001b[0m\u001b[0mi\u001b[0m\u001b[0;34m]\u001b[0m\u001b[0;34m[\u001b[0m\u001b[0;34m'asin'\u001b[0m\u001b[0;34m]\u001b[0m\u001b[0;34m\u001b[0m\u001b[0m\n\u001b[1;32m     31\u001b[0m         \u001b[0muser_id\u001b[0m\u001b[0;34m=\u001b[0m\u001b[0mTesting_DataFrame\u001b[0m\u001b[0;34m.\u001b[0m\u001b[0miloc\u001b[0m\u001b[0;34m[\u001b[0m\u001b[0mi\u001b[0m\u001b[0;34m]\u001b[0m\u001b[0;34m[\u001b[0m\u001b[0;34m'reviewerID'\u001b[0m\u001b[0;34m]\u001b[0m\u001b[0;34m\u001b[0m\u001b[0m\n\u001b[0;32m---> 32\u001b[0;31m         \u001b[0mPredictions\u001b[0m\u001b[0;34m[\u001b[0m\u001b[0mi\u001b[0m\u001b[0;34m]\u001b[0m\u001b[0;34m=\u001b[0m\u001b[0mPredictUserRatingsentiment\u001b[0m\u001b[0;34m(\u001b[0m\u001b[0muser_id\u001b[0m\u001b[0;34m,\u001b[0m\u001b[0mitem_id\u001b[0m\u001b[0;34m)\u001b[0m\u001b[0;34m\u001b[0m\u001b[0m\n\u001b[0m\u001b[1;32m     33\u001b[0m     \u001b[0;32mreturn\u001b[0m \u001b[0mPredictions\u001b[0m\u001b[0;34m\u001b[0m\u001b[0m\n",
      "\u001b[0;32m<ipython-input-22-b25010208284>\u001b[0m in \u001b[0;36mPredictUserRatingsentiment\u001b[0;34m(user_id, item_id)\u001b[0m\n\u001b[1;32m      7\u001b[0m     \u001b[0mratedindices\u001b[0m\u001b[0;34m=\u001b[0m\u001b[0;34m[\u001b[0m\u001b[0;34m]\u001b[0m\u001b[0;34m\u001b[0m\u001b[0m\n\u001b[1;32m      8\u001b[0m     \u001b[0mi\u001b[0m\u001b[0;34m=\u001b[0m\u001b[0;36m0\u001b[0m\u001b[0;34m\u001b[0m\u001b[0m\n\u001b[0;32m----> 9\u001b[0;31m     \u001b[0;32mfor\u001b[0m \u001b[0mrating\u001b[0m \u001b[0;32min\u001b[0m \u001b[0mUsersRatingMemory_sentiment\u001b[0m\u001b[0;34m[\u001b[0m\u001b[0;34m:\u001b[0m\u001b[0;34m,\u001b[0m\u001b[0mitem_ind\u001b[0m\u001b[0;34m]\u001b[0m\u001b[0;34m:\u001b[0m\u001b[0;34m\u001b[0m\u001b[0m\n\u001b[0m\u001b[1;32m     10\u001b[0m         \u001b[0;32mif\u001b[0m \u001b[0mi\u001b[0m\u001b[0;34m==\u001b[0m\u001b[0muser_ind\u001b[0m\u001b[0;34m:\u001b[0m\u001b[0;34m\u001b[0m\u001b[0m\n\u001b[1;32m     11\u001b[0m             \u001b[0;32mcontinue\u001b[0m\u001b[0;34m\u001b[0m\u001b[0m\n",
      "\u001b[0;31mKeyboardInterrupt\u001b[0m: "
     ]
    }
   ],
   "source": [
    "from sklearn.metrics import mean_absolute_error\n",
    "from sklearn.metrics import mean_squared_error\n",
    "Predictions=Testsentiment(1000)\n",
    "print \"For 1000 Samples:\"\n",
    "print \"The Mean Absolute Error is:\", mean_absolute_error(Predictions, Testing_DataFrame['overall'].values[:1000])\n",
    "print \"Root Mean Square Error is:\", np.sqrt(mean_squared_error(Predictions, Testing_DataFrame['overall'].values[:1000]))"
   ]
  },
  {
   "cell_type": "code",
   "execution_count": 24,
   "metadata": {
    "collapsed": true
   },
   "outputs": [],
   "source": [
    "def get_other_closest_user_sentiment(user_ind,k):\n",
    "    PearsonCoeffs={}\n",
    "    for ind in range(len(user_list)):\n",
    "        if ind==user_ind :\n",
    "            continue\n",
    "        else:\n",
    "            PearsonCoeffs[ind]=pearsonr(UsersRatingMemory_sentiment[ind],UsersRatingMemory_sentiment[user_ind])[0]\n",
    "        \n",
    "    PearsonCoeffs_sorted=sorted(PearsonCoeffs.items(), key=lambda kv: kv[1], reverse=True)\n",
    "    return [x for x, y in PearsonCoeffs_sorted[:k]]"
   ]
  },
  {
   "cell_type": "code",
   "execution_count": 25,
   "metadata": {
    "collapsed": true
   },
   "outputs": [],
   "source": [
    "def recommender_sentiments(user_ind):\n",
    "    items_to_recommend=[]\n",
    "    colsest_users=get_other_closest_user_sentiment(user_ind,20)\n",
    "    for user in colsest_users:\n",
    "        for items in np.nonzero(UsersRatingMemory_sentiment[user]):\n",
    "            for item in items:\n",
    "                if UsersRatingMemory_sentiment[user_ind][item] == 0:\n",
    "                    items_to_recommend.append(item_list[item])\n",
    "    \n",
    "    recommendations = {}\n",
    "    for item in items_to_recommend:\n",
    "        recommendations[item] = PredictUserRatingsentiment(user_list[user_ind], item)\n",
    "        \n",
    "    sorted_recommendations = sorted(recommendations.items(), key=lambda kv: kv[1], reverse=True)\n",
    "    return sorted_recommendations"
   ]
  },
  {
   "cell_type": "code",
   "execution_count": 26,
   "metadata": {},
   "outputs": [
    {
     "name": "stdout",
     "output_type": "stream",
     "text": [
      "getting recommendations for user: AO00I2TVC9LBB\n",
      "Top 50 recommendations are For Collaborative Filtering with sentiment Scores ...\n",
      "[('B00KIXIBYQ', 5.240565517241379), ('B00KBDWHKM', 5.240565517241379), ('B00BTPOFSI', 5.240565517241379), ('B00FR3ZCG2', 5.240565517241379), ('B00GW7NHXM', 5.240565517241379), ('B00IW3BOC0', 5.240565517241379), ('B00BVR73P6', 5.240565517241379), ('B00AMIH8Y6', 5.240565517241379), ('B00CMXCWW2', 5.240565517241379), ('B00GM4Y0OU', 5.240565517241379), ('B00KLPFCJI', 5.240565517241379), ('B00FK6WG6K', 5.240565517241379), ('B00HHEVSK8', 5.240565517241379), ('B0058PIWXY', 5.240565517241379), ('B0089MXR6K', 5.240565517241379), ('B004PLNH5K', 5.240565517241379), ('B0069F1LLM', 5.240565517241379), ('B00K0YBVIG', 5.240565517241379), ('B00KXIIZKG', 5.240565517241379), ('B00IZCODEE', 5.240565517241379), ('B008EKOPGS', 5.240565517241379), ('B00F7CJKAC', 5.240565517241379), ('B008OPADK0', 5.240565517241379), ('B00CYBFTWC', 5.240565517241379), ('B00BVA2QBO', 5.240565517241379), ('B00G5ZXKGU', 5.240565517241379), ('B00KZMICVW', 5.240565517241379), ('B00ITTMGZG', 5.240565517241379), ('B00JROS8I6', 5.240565517241379), ('B004XJ4PDW', 5.240565517241379), ('B00D5X6JA4', 5.240565517241379), ('B00LNN4QLW', 5.240565517241379), ('B00I8R7M3U', 5.240565517241379), ('B00AKI4IT6', 5.240565517241379), ('B006F8Q1R2', 5.240565517241379), ('B00ISWZ6O2', 5.240565517241379), ('B00FJGGIF6', 5.240565517241379), ('B00EWN4P9I', 5.240565517241379), ('B004RYVUY0', 5.240565517241379), ('B00HTDVBZ4', 5.240565517241379), ('B009TB004C', 5.240565517241379), ('B00HXR4Y5U', 5.240565517241379), ('B008B0F5QA', 5.240565517241379), ('B00JCJAK96', 5.240565517241379), ('B00GG0OV58', 5.240565517241379), ('B00CIAD6UQ', 5.240565517241379), ('B00J4XQSFK', 5.240565517241379), ('B004R9QVBW', 5.240565517241379), ('B00LXQIL06', 5.240565517241379), ('B00HS5DYDA', 5.240565517241379)]\n"
     ]
    }
   ],
   "source": [
    "print \"getting recommendations for user:\", user_list[1]\n",
    "print \"Top 50 recommendations are For Collaborative Filtering with sentiment Scores ...\"\n",
    "recommendations_sentiment=recommender_sentiments(1)\n"
   ]
  },
  {
   "cell_type": "code",
   "execution_count": 15,
   "metadata": {},
   "outputs": [
    {
     "name": "stdout",
     "output_type": "stream",
     "text": [
      "1\n"
     ]
    }
   ],
   "source": []
  },
  {
   "cell_type": "code",
   "execution_count": null,
   "metadata": {
    "collapsed": true
   },
   "outputs": [],
   "source": []
  },
  {
   "cell_type": "code",
   "execution_count": null,
   "metadata": {
    "collapsed": true
   },
   "outputs": [],
   "source": []
  }
 ],
 "metadata": {
  "kernelspec": {
   "display_name": "Python 2",
   "language": "python",
   "name": "python2"
  },
  "language_info": {
   "codemirror_mode": {
    "name": "ipython",
    "version": 2
   },
   "file_extension": ".py",
   "mimetype": "text/x-python",
   "name": "python",
   "nbconvert_exporter": "python",
   "pygments_lexer": "ipython2",
   "version": "2.7.14"
  }
 },
 "nbformat": 4,
 "nbformat_minor": 2
}
