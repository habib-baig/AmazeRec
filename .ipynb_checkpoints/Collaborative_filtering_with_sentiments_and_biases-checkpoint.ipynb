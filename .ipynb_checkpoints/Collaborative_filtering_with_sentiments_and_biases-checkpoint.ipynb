{
 "cells": [
  {
   "cell_type": "code",
   "execution_count": 1,
   "metadata": {
    "collapsed": true
   },
   "outputs": [],
   "source": [
    "from collections import Counter\n",
    "import pandas as pd\n",
    "from string import punctuation\n",
    "from nltk.corpus import stopwords\n",
    "from nltk.tokenize import word_tokenize\n",
    "import re\n",
    "import numpy as np\n",
    "from scipy.stats.stats import pearsonr\n",
    "from sklearn.model_selection import train_test_split\n",
    "from sklearn.utils import shuffle\n",
    "from scipy.stats.stats import pearsonr\n",
    "from sklearn.metrics import mean_absolute_error\n",
    "from sklearn.metrics import mean_squared_error"
   ]
  },
  {
   "cell_type": "code",
   "execution_count": 2,
   "metadata": {
    "collapsed": true
   },
   "outputs": [],
   "source": [
    "already_extracted=True\n",
    "def parse(path):\n",
    "  g = gzip.open(path, 'rb')\n",
    "  for l in g:\n",
    "    yield eval(l)\n",
    "\n",
    "def getDF(path):\n",
    "  i = 0\n",
    "  df = {}\n",
    "  for d in parse(path):\n",
    "    df[i] = d\n",
    "    i += 1\n",
    "  return pd.DataFrame.from_dict(df, orient='index')\n",
    "\n",
    "if already_extracted:\n",
    "    df = pd.read_pickle('../reviews_Kindle_Store_10_training.h5')\n",
    "    Training_DataFrame = pd.read_pickle('../reviews_Kindle_Store_10_training.h5')\n",
    "    Testing_DataFrame = pd.read_pickle('../reviews_Kindle_Store_10_testing.h5')\n",
    "else:\n",
    "    df = getDF('../reviews_Kindle_Store_5.json.gz')\n",
    "    df = shuffle(df)\n",
    "    Training_DataFrame, Testing_DataFrame = train_test_split(df, test_size=0.2)"
   ]
  },
  {
   "cell_type": "code",
   "execution_count": 3,
   "metadata": {},
   "outputs": [
    {
     "name": "stdout",
     "output_type": "stream",
     "text": [
      "(453086, 13)\n",
      "(50343, 13)\n"
     ]
    }
   ],
   "source": [
    "print Training_DataFrame.shape\n",
    "print Testing_DataFrame.shape"
   ]
  },
  {
   "cell_type": "code",
   "execution_count": 4,
   "metadata": {},
   "outputs": [
    {
     "name": "stdout",
     "output_type": "stream",
     "text": [
      "Dataset details:\n",
      "Number of item: 22203\n",
      "Number of Users: 26466\n",
      "Number of ratings: 5\n",
      "\n",
      "\n"
     ]
    }
   ],
   "source": [
    "print \"Dataset details:\"\n",
    "Uniq_items =  len(set(df['asin'].values))\n",
    "print \"Number of item:\", Uniq_items\n",
    "Uniq_users =   len(set(df['reviewerID'].values))\n",
    "print \"Number of Users:\", Uniq_users\n",
    "Uniq_ratings = len(set(df['overall'].values))\n",
    "print \"Number of ratings:\", Uniq_ratings\n",
    "print \"\\n\""
   ]
  },
  {
   "cell_type": "code",
   "execution_count": 5,
   "metadata": {
    "collapsed": true
   },
   "outputs": [],
   "source": [
    "#Training_DataFrame=Training_DataFrame[:5000]\n",
    "Training_DataFrame.columns\n",
    "# Lists of unique items and users\n",
    "item_list = list(set(df['asin'].values))\n",
    "user_list = list(set(df['reviewerID'].values))\n",
    "\n",
    "#Storing the indices of users to generate the Rating Memory Matrix\n",
    "UserIndices={}\n",
    "for i in range(len(user_list)):\n",
    "    UserIndices[user_list[i]] = i\n",
    "\n",
    "#Storing the indices of items to generate the Rating Memory Matrix\n",
    "#These indices will be used to populate the UsersRatingMemory for Memory based Collaborative Filtering\n",
    "itemIndices={}\n",
    "for j in range(len(item_list)):\n",
    "    itemIndices[item_list[j]] = j\n",
    "    "
   ]
  },
  {
   "cell_type": "markdown",
   "metadata": {},
   "source": [
    "# Collaborative Filtering with Biases and without Sentiment Scores: "
   ]
  },
  {
   "cell_type": "code",
   "execution_count": 31,
   "metadata": {},
   "outputs": [
    {
     "name": "stdout",
     "output_type": "stream",
     "text": [
      "Average Ratings of the Users are:\n",
      "[4.92307692 5.         3.76923077 ... 3.84615385 3.5        4.64912281]\n"
     ]
    }
   ],
   "source": [
    "#UsersRatingMemory stores the users and corresponding items ratings in Matrix form\n",
    "UsersRatingMemory=np.zeros((Uniq_users,Uniq_items))\n",
    "\n",
    "for i in range(0, len(Training_DataFrame)):\n",
    "    item_id=Training_DataFrame.iloc[i]['asin']\n",
    "    user_id=Training_DataFrame.iloc[i]['reviewerID']\n",
    "    #get user and item indices\n",
    "    user_ind=UserIndices[user_id]\n",
    "    item_ind=itemIndices[item_id]\n",
    "    rating=Training_DataFrame.iloc[i]['overall']\n",
    "    #populate the matrix with rating at corresponding user and item index\n",
    "    UsersRatingMemory[user_ind][item_ind]=float(rating)\n",
    "\n",
    "AvgRatings = np.true_divide(UsersRatingMemory.sum(1),(UsersRatingMemory!=0).sum(1))\n",
    "\n",
    "print \"Average Ratings of the Users are:\"\n",
    "print AvgRatings"
   ]
  },
  {
   "cell_type": "code",
   "execution_count": 12,
   "metadata": {
    "collapsed": true
   },
   "outputs": [],
   "source": [
    "# Your Code Here...\n",
    "def populate_baseline():\n",
    "    '''I have tried and implemented the Baseline appraoch of collaborative filtering as discussed in the class. \n",
    "       I observe that it models the Local and Global Effects of user rating very well.\n",
    "       I stored the baseline ratings \n",
    "\n",
    "        b_xi= u + bx + bi\n",
    "        u = overall mean rating\n",
    "        bx = rating deviation of user x\n",
    "            = (avg. rating of user x) – u\n",
    "        bi = (avg. rating of movie i) – u'''\n",
    "    \n",
    "    AvgRatings = np.true_divide(UsersRatingMemory.sum(1),(UsersRatingMemory!=0).sum(1))\n",
    "    AvgRatingitem= np.true_divide(UsersRatingMemory.sum(0),(UsersRatingMemory!=0).sum(0))\n",
    "    #print AvgRatingitem\n",
    "    global_average=np.true_divide(UsersRatingMemory.sum(),(UsersRatingMemory!=0).sum()) \n",
    "\n",
    "    baseline_matrix=np.zeros((len(AvgRatings),len(AvgRatingitem)))\n",
    "\n",
    "    for i in range(len(AvgRatings)):\n",
    "        for j in range(len(AvgRatingitem)): \n",
    "            baseline_matrix[i][j]=AvgRatings[i]+AvgRatingitem[j]-global_average\n",
    "    return baseline_matrix\n",
    "\n",
    "        \n",
    "def PredictUserRatingBaseline(user_id, item_id):\n",
    "    '''This function predicts the rating based on user_id and item_id'''\n",
    "    item_ind = itemIndices[item_id]\n",
    "    user_ind = UserIndices[user_id]\n",
    "    #ratedindices: it stores the indices of all other users that have rated the item\n",
    "    ratedindices=[]\n",
    "    i=0\n",
    "    for rating in UsersRatingMemory[:,item_ind]:\n",
    "        if i==user_ind:\n",
    "            continue\n",
    "        if rating !=0:\n",
    "            ratedindices.append(i)\n",
    "        i+=1\n",
    "    #itemRatingsOthers: stores other users ratings\n",
    "    itemRatingsOthers = UsersRatingMemory[ratedindices, item_ind]\n",
    "    #Store the pearson coefficents\n",
    "    PearsonCoeffs=[]\n",
    "    k=0.001\n",
    "    for ind in ratedindices:\n",
    "        PearsonCoeffs.append(pearsonr(UsersRatingMemory[ind],UsersRatingMemory[user_ind])[0])\n",
    "\n",
    "    # Calculate the prediction\n",
    "    pred = baseline_matrix[user_ind][item_ind] + k * np.sum( PearsonCoeffs* (itemRatingsOthers - baseline_matrix[[ratedindices],item_ind]))\n",
    "    return pred\n",
    "\n",
    "def TestBaseline(no_of_samples):\n",
    "    '''This function returns the predictions for given no of samples'''\n",
    "    Predictions=np.zeros(no_of_samples)\n",
    "    for i in range(no_of_samples):\n",
    "        item_id=Testing_DataFrame.iloc[i]['asin']\n",
    "        user_id=Testing_DataFrame.iloc[i]['reviewerID']\n",
    "        Predictions[i]=PredictUserRatingBaseline(user_id,item_id)\n",
    "    return Predictions\n"
   ]
  },
  {
   "cell_type": "code",
   "execution_count": null,
   "metadata": {
    "collapsed": true
   },
   "outputs": [],
   "source": [
    "baseline_matrix=populate_baseline()\n",
    "print baseline_matrix"
   ]
  },
  {
   "cell_type": "code",
   "execution_count": 24,
   "metadata": {},
   "outputs": [
    {
     "name": "stdout",
     "output_type": "stream",
     "text": [
      "[[4.76347335 5.43807653 5.24918764 ... 4.54918764 3.86168764 4.96585431]\n",
      " [4.84039643 5.51499961 5.32611072 ... 4.62611072 3.93861072 5.04277738]\n",
      " [3.6096272  4.28423037 4.09534149 ... 3.39534149 2.70784149 3.81200815]\n",
      " ...\n",
      " [3.68655028 4.36115345 4.17226456 ... 3.47226456 2.78476456 3.88893123]\n",
      " [3.34039643 4.01499961 3.82611072 ... 3.12611072 2.43861072 3.54277738]\n",
      " [4.48951924 5.16412241 4.97523352 ... 4.27523352 3.58773352 4.69190019]]\n",
      "For 10 Samples:\n",
      "The Mean Absolute Error is: 0.5426470836682358\n",
      "Root Mean Square Error is: 0.6192298296902573\n"
     ]
    }
   ],
   "source": [
    "Predictions=TestBaseline(10)\n",
    "print \"For 10 Samples:\"\n",
    "print \"The Mean Absolute Error is:\", mean_absolute_error(Predictions, Testing_DataFrame['overall'].values[:10])\n",
    "print \"Root Mean Square Error is:\", np.sqrt(mean_squared_error(Predictions, Testing_DataFrame['overall'].values[:10]))"
   ]
  },
  {
   "cell_type": "code",
   "execution_count": 18,
   "metadata": {
    "collapsed": true
   },
   "outputs": [],
   "source": [
    "def get_other_closest_user(user_ind,k):\n",
    "    PearsonCoeffs={}\n",
    "    for ind in range(len(user_list)):\n",
    "        if ind==user_ind :\n",
    "            continue\n",
    "        else:\n",
    "            PearsonCoeffs[ind]=pearsonr(UsersRatingMemory[ind],UsersRatingMemory[user_ind])[0]\n",
    "        \n",
    "    PearsonCoeffs_sorted=sorted(PearsonCoeffs.items(), key=lambda kv: kv[1], reverse=True)\n",
    "    return [x for x, y in PearsonCoeffs_sorted[:k]]"
   ]
  },
  {
   "cell_type": "code",
   "execution_count": 19,
   "metadata": {
    "collapsed": true
   },
   "outputs": [],
   "source": [
    "def recommender(user_ind):\n",
    "    items_to_recommend=[]\n",
    "    colsest_users=get_other_closest_user(user_ind,20)\n",
    "    for user in colsest_users:\n",
    "        for items in np.nonzero(UsersRatingMemory[user]):\n",
    "            for item in items:\n",
    "                if UsersRatingMemory[user_ind][item] == 0:\n",
    "                    items_to_recommend.append(item_list[item])\n",
    "    \n",
    "    recommendations = {}\n",
    "    for item in items_to_recommend:\n",
    "        recommendations[item] = PredictUserRatingBaseline(user_list[user_ind], item)\n",
    "        \n",
    "    sorted_recommendations = sorted(recommendations.items(), key=lambda kv: kv[1], reverse=True)\n",
    "    return sorted_recommendations"
   ]
  },
  {
   "cell_type": "code",
   "execution_count": 20,
   "metadata": {},
   "outputs": [
    {
     "name": "stdout",
     "output_type": "stream",
     "text": [
      "getting recommendations for user: AO00I2TVC9LBB\n",
      "Top 100 recommendations are For Collaborative Filtering without sentiment Scores ...\n",
      "[('B00KJ7RAYI', 5.5491876393647805), ('B00G66WM4Y', 5.5491876393647805), ('B00LPUXAGK', 5.507520972698113), ('B00A1Q7SQM', 5.496556060417412), ('B00KEXI780', 5.493632083809225), ('B00KWREVQK', 5.482520972698114), ('B00GMSI5BA', 5.472264562441704), ('B00HBY2SSU', 5.472264562441704), ('B00GXLDT9O', 5.465854306031448), ('B00F3OO3IS', 5.465854306031448), ('B00IX330GW', 5.465854306031448), ('B00HSNMKF0', 5.465854306031448), ('B00LYPZJ4M', 5.46223111762565), ('B00KVN6HH6', 5.46223111762565), ('B00KKPKAAU', 5.442804660641376), ('B00JHNAWQS', 5.442044782221923), ('B00JYQARIG', 5.43807652825367), ('B00DDHE79C', 5.4315405805412516), ('B00K3517K4', 5.4201553813002645), ('B00IO05YO0', 5.415854306031448), ('B00JK54RAU', 5.406330496507638), ('B00JF8GMP0', 5.394015225571677), ('B00KF076S4', 5.38918763936478), ('B00KKT5TMU', 5.37775906793621), ('B00JCJAK96', 5.370616210793352), ('B0060AN5A6', 5.367369457546599), ('B00IGI2BHS', 5.367369457546599), ('B00KBAY5ZK', 5.367369457546599), ('B00HBY8SIY', 5.3616876393647805), ('B00KGFB0IK', 5.349187639364781), ('B00K283O3U', 5.349187639364781), ('B00LNUOLOC', 5.349187639364781), ('B00KY7X0OC', 5.329187639364782), ('B00KRQCHYO', 5.320020972698113), ('B00K0PNVEC', 5.318418408595551), ('B00EUSSY3S', 5.311092401269543), ('B00KXIIZKG', 5.30918763936478), ('B00L7DRQME', 5.2991876393647805), ('B00LS3MXVW', 5.2991876393647805), ('B008S29WT2', 5.2991876393647805), ('B00H8APQ68', 5.2991876393647805), ('B00EB713KY', 5.2991876393647805), ('B00BQHACNG', 5.2991876393647805), ('B00BL5VCO6', 5.29337368587641), ('B00JD49EZG', 5.287282877460018), ('B009IV2Q3G', 5.286029744627938), ('B0082SJRMY', 5.285036695968553), ('B009TB004C', 5.282520972698115), ('B00DZZ2KYQ', 5.282520972698115), ('B00FK13WV8', 5.271409861587002), ('B00ILILD1S', 5.269187639364779), ('B00GKKU0OK', 5.2679376393647805), ('B00JA703JC', 5.263473353650496), ('B00G626JKQ', 5.263473353650496), ('B00CNX89CI', 5.263473353650496), ('B00IRLFJ96', 5.24918763936478), ('B009MA8P2O', 5.24918763936478), ('B00JWET7TU', 5.245616210793352), ('B00BN1E6SW', 5.241495331672474), ('B00EWN4P9I', 5.241495331672474), ('B00HNXTHC4', 5.241495331672474), ('B00KZ6LWWO', 5.2366876393647805), ('B00EPZUSYY', 5.231479306031448), ('B00LDEWTMY', 5.215854306031448), ('B00F2NMV5C', 5.215854306031448), ('B00JVQTZ2S', 5.215854306031448), ('B00GKKU12G', 5.2118382417744185), ('B00DE50M2E', 5.21168763936478), ('B008XLF8SM', 5.203033793210934), ('B00LD69NIA', 5.199187639364781), ('B00KAQY2BC', 5.196246462894194), ('B00G2BL50K', 5.19325543597495), ('B00JLYS5US', 5.192044782221923), ('B00JDYC5OI', 5.1878169228538775), ('B00JMSE4QM', 5.185551275728417), ('B00B3KPBSW', 5.182775425624324), ('B00AYIDVLS', 5.180766586733202), ('B00K9ZLW3K', 5.180766586733202), ('B00HCLDV24', 5.180766586733202), ('B00KTI9R6Q', 5.180335180348387), ('B001ISOPTA', 5.1741876393647805), ('B00IP8459G', 5.1741876393647805), ('B00GVZZQ2A', 5.171409861587002), ('B00KF0URBM', 5.166208915960525), ('B004LX069M', 5.1645722547493955), ('B00AP9RMMK', 5.160298750475891), ('B00EYJ2LGY', 5.1578832915386945), ('B00DVYV9HU', 5.156330496507638), ('B00HEKTLPO', 5.14918763936478), ('B00I4ABC3W', 5.14918763936478), ('B00JKW0680', 5.143782233959375), ('B00LRM150O', 5.141780231957372), ('B00JLTRZ18', 5.141780231957372), ('B00HDSGUQ0', 5.13893122910837), ('B00HFDTFVK', 5.128135007785832), ('B00DRL96CC', 5.127500892376829), ('B00ES1OTJ0', 5.120616210793352), ('B00KI0I2ZC', 5.120616210793352), ('B00GNA1DFC', 5.117369457546599), ('B00K6PQBVG', 5.1116876393647805)]\n"
     ]
    }
   ],
   "source": [
    "print \"getting recommendations for user:\", user_list[0]\n",
    "print \"Top 100 recommendations are For Collaborative Filtering without sentiment Scores ...\"\n",
    "recommendations=recommender(0)\n",
    "print recommendations[:100]"
   ]
  },
  {
   "cell_type": "markdown",
   "metadata": {},
   "source": [
    "# Colloboarative Filtering with biases and Sentiment Scores:"
   ]
  },
  {
   "cell_type": "code",
   "execution_count": 6,
   "metadata": {},
   "outputs": [
    {
     "name": "stdout",
     "output_type": "stream",
     "text": [
      "Average Ratings of the Users are:\n",
      "[5.19210769 5.352625   4.11755385 ... 4.19432308 3.7305625  4.78263509]\n"
     ]
    }
   ],
   "source": [
    "UsersRatingMemory_sentiment=np.zeros((Uniq_users,Uniq_items))\n",
    "\n",
    "for i in range(0, len(Training_DataFrame)):\n",
    "    item_id=Training_DataFrame.iloc[i]['asin']\n",
    "    user_id=Training_DataFrame.iloc[i]['reviewerID']\n",
    "    #get user and item indices\n",
    "    user_ind=UserIndices[user_id]\n",
    "    item_ind=itemIndices[item_id]\n",
    "    rating=float(Training_DataFrame.iloc[i]['overall'])\n",
    "    \n",
    "    if Training_DataFrame.iloc[i]['reviewText']:\n",
    "    #populate the matrix with rating at corresponding user and item index\n",
    "        rating=rating + float(Training_DataFrame.iloc[i]['corrected_sent_score'])\n",
    "    \n",
    "    UsersRatingMemory_sentiment[user_ind][item_ind]=rating\n",
    "\n",
    "AvgRating_sentiment = np.true_divide(UsersRatingMemory_sentiment.sum(1),(UsersRatingMemory_sentiment!=0).sum(1))\n",
    "\n",
    "print \"Average Ratings of the Users are:\"\n",
    "print AvgRating_sentiment"
   ]
  },
  {
   "cell_type": "code",
   "execution_count": 7,
   "metadata": {
    "collapsed": true
   },
   "outputs": [],
   "source": [
    "def populate_baseline_sentiment():\n",
    "    '''I have tried and implemented the Baseline appraoch of collaborative filtering as discussed in the class. \n",
    "       I observe that it models the Local and Global Effects of user rating very well.\n",
    "       I stored the baseline ratings \n",
    "\n",
    "        b_xi= u + bx + bi\n",
    "        u = overall mean rating\n",
    "        bx = rating deviation of user x\n",
    "            = (avg. rating of user x) – u\n",
    "        bi = (avg. rating of movie i) – u'''\n",
    "    \n",
    "    AvgRatings_sentiment = np.true_divide(UsersRatingMemory_sentiment.sum(1),(UsersRatingMemory_sentiment!=0).sum(1))\n",
    "    AvgRatingitem_sentiment= np.true_divide(UsersRatingMemory_sentiment.sum(0),(UsersRatingMemory_sentiment!=0).sum(0))\n",
    "    #print AvgRatingitem\n",
    "    global_average=np.true_divide(UsersRatingMemory_sentiment.sum(),(UsersRatingMemory_sentiment!=0).sum()) \n",
    "\n",
    "    baseline_matrix_sentiment=np.zeros((len(AvgRatings_sentiment),len(AvgRatingitem_sentiment)))\n",
    "\n",
    "    for i in range(len(AvgRatings_sentiment)):\n",
    "        for j in range(len(AvgRatingitem_sentiment)): \n",
    "            baseline_matrix_sentiment[i][j]=AvgRatings_sentiment[i]+AvgRatingitem_sentiment[j]-global_average\n",
    "    return baseline_matrix_sentiment\n",
    "\n",
    "def PredictUserRatingsentiment(user_id, item_id):\n",
    "    '''This function predicts the rating based on user_id and item_id'''\n",
    "    item_ind = itemIndices[item_id]\n",
    "    user_ind = UserIndices[user_id]\n",
    "    #ratedindices: it stores the indices of all other users that have rated the item\n",
    "    ratedindices=[]\n",
    "    i=0\n",
    "    for rating in UsersRatingMemory_sentiment[:,item_ind]:\n",
    "        if i==user_ind:\n",
    "            continue\n",
    "        if rating !=0:\n",
    "            ratedindices.append(i)\n",
    "        i+=1\n",
    "    #itemRatingsOthers: stores other users ratings\n",
    "    itemRatingsOthers = UsersRatingMemory_sentiment[ratedindices, item_ind]\n",
    "    #Store the pearson coefficents\n",
    "    PearsonCoeffs=[]\n",
    "    for ind in ratedindices:\n",
    "        PearsonCoeffs.append(pearsonr(UsersRatingMemory_sentiment[ind],UsersRatingMemory_sentiment[user_ind])[0])\n",
    "    k=0.001\n",
    "    # Calculate the prediction\n",
    "    pred = baseline_matrix_sentiment[user_ind][item_ind] + k * np.sum( PearsonCoeffs* (itemRatingsOthers - baseline_matrix_sentiment[[ratedindices],item_ind]))\n",
    "    return pred\n",
    "\n",
    "def Testsentiment(no_of_samples):\n",
    "    '''This function returns the predictions for given no of samples'''\n",
    "    Predictions=np.zeros(no_of_samples)\n",
    "    for i in range(no_of_samples):\n",
    "        item_id=Testing_DataFrame.iloc[i]['asin']\n",
    "        user_id=Testing_DataFrame.iloc[i]['reviewerID']\n",
    "        Predictions[i]=PredictUserRatingsentiment(user_id,item_id)\n",
    "    return Predictions"
   ]
  },
  {
   "cell_type": "code",
   "execution_count": 9,
   "metadata": {},
   "outputs": [
    {
     "name": "stdout",
     "output_type": "stream",
     "text": [
      "[[4.97017852 5.80697535 5.51959423 ... 4.81234605 4.09978298 5.3524559 ]\n",
      " [5.13069583 5.96749265 5.68011154 ... 4.97286336 4.26030029 5.51297321]\n",
      " [3.89562467 4.7324215  4.44504039 ... 3.73779221 3.02522914 4.27790206]\n",
      " ...\n",
      " [3.97239391 4.80919073 4.52180962 ... 3.81456144 3.10199837 4.35467129]\n",
      " [3.50863333 4.34543015 4.05804904 ... 3.35080086 2.63823779 3.89091071]\n",
      " [4.56070592 5.39750274 5.11012163 ... 4.40287345 3.69031038 4.9429833 ]]\n"
     ]
    }
   ],
   "source": [
    "baseline_matrix_sentiment=populate_baseline_sentiment()\n",
    "print baseline_matrix_sentiment"
   ]
  },
  {
   "cell_type": "code",
   "execution_count": 24,
   "metadata": {},
   "outputs": [
    {
     "name": "stdout",
     "output_type": "stream",
     "text": [
      "For 1000 Samples:\n",
      "The Mean Absolute Error is: 0.5915488267025667\n",
      "Root Mean Square Error is: 0.8618822029935236\n"
     ]
    }
   ],
   "source": [
    "from sklearn.metrics import mean_absolute_error\n",
    "from sklearn.metrics import mean_squared_error\n",
    "Predictions=Testsentiment(1000)\n",
    "print \"For 1000 Samples:\"\n",
    "print \"The Mean Absolute Error is:\", mean_absolute_error(Predictions, Testing_DataFrame['overall'].values[:1000])\n",
    "print \"Root Mean Square Error is:\", np.sqrt(mean_squared_error(Predictions, Testing_DataFrame['overall'].values[:1000]))"
   ]
  },
  {
   "cell_type": "code",
   "execution_count": 10,
   "metadata": {
    "collapsed": true
   },
   "outputs": [],
   "source": [
    "def get_other_closest_user_sentiment(user_ind,k):\n",
    "    PearsonCoeffs={}\n",
    "    for ind in range(len(user_list)):\n",
    "        if ind==user_ind :\n",
    "            continue\n",
    "        else:\n",
    "            PearsonCoeffs[ind]=pearsonr(UsersRatingMemory_sentiment[ind],UsersRatingMemory_sentiment[user_ind])[0]\n",
    "        \n",
    "    PearsonCoeffs_sorted=sorted(PearsonCoeffs.items(), key=lambda kv: kv[1], reverse=True)\n",
    "    return [x for x, y in PearsonCoeffs_sorted[:k]]"
   ]
  },
  {
   "cell_type": "code",
   "execution_count": 11,
   "metadata": {
    "collapsed": true
   },
   "outputs": [],
   "source": [
    "def recommender_sentiments(user_ind):\n",
    "    items_to_recommend=[]\n",
    "    colsest_users=get_other_closest_user_sentiment(user_ind,20)\n",
    "    for user in colsest_users:\n",
    "        for items in np.nonzero(UsersRatingMemory_sentiment[user]):\n",
    "            for item in items:\n",
    "                if UsersRatingMemory_sentiment[user_ind][item] == 0:\n",
    "                    items_to_recommend.append(item_list[item])\n",
    "    \n",
    "    recommendations = {}\n",
    "    for item in items_to_recommend:\n",
    "        recommendations[item] = PredictUserRatingsentiment(user_list[user_ind], item)\n",
    "        \n",
    "    sorted_recommendations = sorted(recommendations.items(), key=lambda kv: kv[1], reverse=True)\n",
    "    return sorted_recommendations"
   ]
  },
  {
   "cell_type": "code",
   "execution_count": 12,
   "metadata": {},
   "outputs": [
    {
     "name": "stdout",
     "output_type": "stream",
     "text": [
      "getting recommendations for user: AO00I2TVC9LBB\n",
      "Top 100 recommendations are For Collaborative Filtering with sentiment Scores ...\n",
      "[('B00LPUXAGK', 5.9451142349949775), ('B00G66WM4Y', 5.906900598631341), ('B00KJ7RAYI', 5.895450901661644), ('B00F3OO3IS', 5.892189234994977), ('B00HBY2SSU', 5.838479619610362), ('B00KVN6HH6', 5.830236698763094), ('B00KKPKAAU', 5.816362107335402), ('B00IWFPWKI', 5.807039234994979), ('B00KEXI780', 5.803603123883868), ('B00JK54RAU', 5.803421377852122), ('B00GXLDT9O', 5.800414234994979), ('B00JHNAWQS', 5.7945695921378375), ('B00GMSI5BA', 5.76980269653344), ('B00IX330GW', 5.754889234994978), ('B00IO05YO0', 5.748610901661643), ('B00LYPZJ4M', 5.746664234994978), ('B00DDHE79C', 5.746623058524389), ('B00K283O3U', 5.741606734994979), ('B00JF8GMP0', 5.73485216602946), ('B008GGH5HQ', 5.7251225683283105), ('B00JCJAK96', 5.722988044518787), ('B00KKT5TMU', 5.721432806423549), ('B00HSNMKF0', 5.71922256832831), ('B00K3517K4', 5.7176513317691695), ('B00H8APQ68', 5.717082092137836), ('B00BQHACNG', 5.692176734994978), ('B00KWREVQK', 5.685004234994978), ('B00JYQARIG', 5.676130901661645), ('B00HBY8SIY', 5.665839234994977), ('B00KXIIZKG', 5.663076234994979), ('B00EUSSY3S', 5.658264234994978), ('B00FK13WV8', 5.652036457217201), ('B009IV2Q3G', 5.64921160341603), ('B009MA8P2O', 5.647984234994978), ('B008S29WT2', 5.639424234994977), ('B00KF076S4', 5.635320234994977), ('B00KRQCHYO', 5.620968401661647), ('B00KBA6PKS', 5.61436894087733), ('B00GKKU0OK', 5.604807203744978), ('B00KBAY5ZK', 5.604409689540431), ('B00G626JKQ', 5.601146377852122), ('B0060AN5A6', 5.600764234994977), ('B00J2MFK4I', 5.590399949280692), ('B00LS3MXVW', 5.588526734994976), ('B00CNX89CI', 5.586472806423548), ('B00ILILD1S', 5.586456234994977), ('B0082SJRMY', 5.584941593485545), ('B00JVQTZ2S', 5.5732283375590805), ('B00LD69NIA', 5.566589234994978), ('B00GVZZQ2A', 5.5618720127727554), ('B00JD49EZG', 5.558804711185453), ('B00BN1E6SW', 5.553264234994978), ('B00IGI2BHS', 5.544296053176796), ('B00LDEWTMY', 5.540604234994977), ('B00JA703JC', 5.54014994928069), ('B00KZ6LWWO', 5.537898609994978), ('B00L7DRQME', 5.537182568328309), ('B00F2NMV5C', 5.536814234994979), ('B00BL5VCO6', 5.53538283964614), ('B00IRLFJ96', 5.533979234994978), ('B00K0PNVEC', 5.529725773456517), ('B00GKKU12G', 5.527267849452808), ('B00G2BL50K', 5.525072709571249), ('B00A1Q7SQM', 5.522080024468662), ('B00KTI9R6Q', 5.521747021880224), ('B00HTP1P26', 5.513848850379593), ('B00JWET7TU', 5.513010663566409), ('B00HFDTFVK', 5.510269498152874), ('B00AP9RMMK', 5.50377534610609), ('B00KGFB0IK', 5.498956234994979), ('B00K6PQBVG', 5.496295484994978), ('B00JMSE4QM', 5.494664234994979), ('B00CRMRSL8', 5.494505411465567), ('B008XLF8SM', 5.494429619610362), ('B00KY7X0OC', 5.492322234994977), ('B00B3KPBSW', 5.489320723544593), ('B00DZZ2KYQ', 5.487680901661643), ('B00ES1OTJ0', 5.4866570921378335), ('B00HNXTHC4', 5.481318081148825), ('B00HSOQROY', 5.479024234994978), ('B00EOARZGO', 5.475509689540432), ('B00DVYV9HU', 5.473657092137835), ('B00GR9SMXU', 5.468760663566408), ('B00HCLDV24', 5.466106340258135), ('B00DE50M2E', 5.463984234994979), ('B00GNA1DFC', 5.456471053176796), ('B00DRL96CC', 5.454191945838354), ('B00GSXTFFY', 5.448364234994977), ('B00LRM150O', 5.4481642349949775), ('B00EYJ2LGY', 5.434897568328311), ('B00LNUOLOC', 5.434564234994977), ('B00JKW0680', 5.431075045805788), ('B00H95FQRG', 5.429677470289097), ('B00FKERXXS', 5.428692440123183), ('B00KI0I2ZC', 5.4253785207092635), ('B00I4ABC3W', 5.420029689540432), ('B00EWN4P9I', 5.418302696533439), ('B00JDYC5OI', 5.416123113499652), ('B00HDSGUQ0', 5.415847568328311), ('B00JLTRZ18', 5.408871642402386)]\n"
     ]
    }
   ],
   "source": [
    "print \"getting recommendations for user:\", user_list[0]\n",
    "print \"Top 100 recommendations are For Collaborative Filtering with sentiment Scores ...\"\n",
    "recommendations_sentiment=recommender_sentiments(0)\n",
    "print recommendations_sentiment[:100]"
   ]
  },
  {
   "cell_type": "code",
   "execution_count": 32,
   "metadata": {},
   "outputs": [
    {
     "name": "stdout",
     "output_type": "stream",
     "text": [
      "AO00I2TVC9LBB\n"
     ]
    }
   ],
   "source": [
    "print user_list[0]"
   ]
  },
  {
   "cell_type": "code",
   "execution_count": 17,
   "metadata": {},
   "outputs": [
    {
     "name": "stdout",
     "output_type": "stream",
     "text": [
      "products rated by user AO00I2TVC9LBB\n",
      "['B00BQJ9SNO', 'B00DY8HAH6', 'B00KKBZYGY', 'B00ISYAI52', 'B00K8HKI8O', 'B00KJJ4XVO', 'B00KA0AQP4', 'B00DY8HAJO', 'B00DY8HAJ4', 'B00DUWZC76', 'B009RDMZ86', 'B00DJ60BS8', 'B00G2UXCK2', 'B00E4V2VCG', 'B00H0UT86K', 'B00K8A9CCO', 'B00KTK56P0', 'B00C4X5RBI', 'B00KB3YL0Q', 'B00HUU13ZE', 'B00IFR0XP2', 'B00H0UT88I', 'B00HYZ06ZI', 'B00HHDERTI', 'B00L5O9V5K', 'B00A8NGHE2']\n"
     ]
    }
   ],
   "source": [
    "print \"products rated by user\", user_list[0]\n",
    "itemsratedbyuser=[]\n",
    "for x in range(len(UsersRatingMemory_sentiment[0])):\n",
    "    if UsersRatingMemory_sentiment[0][x]:\n",
    "        itemsratedbyuser.append(x)\n",
    "print [item_list[x] for x in itemsratedbyuser ]"
   ]
  },
  {
   "cell_type": "code",
   "execution_count": 27,
   "metadata": {},
   "outputs": [
    {
     "name": "stdout",
     "output_type": "stream",
     "text": [
      "Qualitative analysis of our top recommendation:\n"
     ]
    }
   ],
   "source": [
    "print \"Qualitative analysis of our top recommendation:\"\n",
    "Reviewlist_sentiment=[]\n",
    "Reviewlist_withoutsentiment=[]\n",
    "for i in range(0, len(Training_DataFrame)):\n",
    "    item_id=Training_DataFrame.iloc[i]['asin']\n",
    "    if item_id =='B00LPUXAGK':\n",
    "        Reviewlist_sentiment.append([Training_DataFrame.iloc[i]['overall'],Training_DataFrame.iloc[i]['summary'],Training_DataFrame.iloc[i]['reviewText']])\n",
    "    if item_id =='B00KJ7RAYI':\n",
    "        Reviewlist_withoutsentiment.append([Training_DataFrame.iloc[i]['overall'],Training_DataFrame.iloc[i]['summary'],Training_DataFrame.iloc[i]['reviewText']])"
   ]
  },
  {
   "cell_type": "code",
   "execution_count": 28,
   "metadata": {},
   "outputs": [
    {
     "name": "stdout",
     "output_type": "stream",
     "text": [
      "5 --> You WILL NOT regret getting lost in this AMAZING book.\n",
      "5 --> Team Luca All The Way!\n",
      "4 --> In Review: More Than Forever (More #4) by Jay McLean\n",
      "5 --> Cam & Lucy Forever &lt;3\n",
      "5 --> A Must Read!!! Loved It!!!\n",
      "5 --> 5++ Cupcakes\n",
      "5 --> BEST READ of 2014\n",
      "5 --> They made my world stop &lt;3\n",
      "5 --> Loved, loved, loved!!!\n",
      "5 --> 5 is all I can rate her but believe me you will understand once you have read the story of a girl and a boy that fall in love. A\n",
      "5 --> How is it possible that this series keeps getting better and better?  Absolutely &#8220;unputabledownable&#8221;\n",
      "5 --> I Loved It!\n",
      "5 --> Real Talent At it's Best!\n",
      "5 --> too epic, can't function\n",
      "5 --> Cam is the man!!\n",
      "5 --> A love for always and forever\n",
      "5 --> Cam and Lucy - Best Book Yet!!\n",
      "5 --> MORE than ready for this book,  MORE than ready for....MORE!! AHHHMAZING!! Deserves MORE than 5 Stars!\n",
      "5 --> Amazing\n",
      "5 --> Cam and Lucy's Forever\n",
      "5 --> More Than Forever...\n",
      "5 --> Stunning Emotional Eloquence\n",
      "5 --> If I could give this Eleventy-three stars I would!!\n",
      "5 --> 5+++ And More stars!!!\n",
      "5 --> Jay McClean does it again!!!\n",
      "5 --> I just love this book faultless, from start to finish. A must read\n",
      "5 --> ELEVENTY THREE MILLION STARS!\n",
      "5 --> 5...NOT ENOUGH STARS!!!\n",
      "5 --> Wonderful\n",
      "4 --> Cavity sweet, predictable, and funny\n",
      "5 --> More Than Amazing!!!!!!!\n",
      "5 --> for a million words I could write, none seem to do justice.\n",
      "5 --> It only gets better\n",
      "5 --> Love this series\n",
      "5 --> This book is written brilliantly, its a total roller coaster ride of emotions\n",
      "5 --> Can't get enough of this series!!!!!\n",
      "5 --> Lucy and Cam &lt;3\n",
      "5 --> More than a 5 star read!!!!\n",
      "5 --> Best of the series, hands down!\n",
      "5 --> Amazing!\n",
      "5 --> I'm ruined once again...\n",
      "5 --> 5 MILLION FOREVER STARS\n",
      "5 --> Swoon!!!!\n",
      "5 --> Beautiful Love Story...\n",
      "5 --> Oh the feels!\n",
      "5 --> 5 BEST of the series STARS!\n",
      "5 --> Deserves More Than Eleventy Three Stars!\n",
      "5 --> Leaves you breathless\n"
     ]
    }
   ],
   "source": [
    "for r in Reviewlist_sentiment:\n",
    "    print r[0], \"-->\" ,r[1]"
   ]
  },
  {
   "cell_type": "code",
   "execution_count": 29,
   "metadata": {},
   "outputs": [
    {
     "name": "stdout",
     "output_type": "stream",
     "text": [
      "5 --> Amazing trilogy\n",
      "5 --> Book Three Story Told in Nicks POV!\n",
      "5 --> &#128077;&#128077;&#128077;&#128077;&#128077;\n",
      "5 --> Wonderful conclusion\n",
      "5 --> Awesome Conclusion\n",
      "5 --> Must read Series\n",
      "5 --> happiness\n",
      "5 --> Loved the ending of this story\n",
      "5 --> A great continuation\n",
      "5 --> Fantabulous\n",
      "5 --> A great conclusion to a wonderful, emotional and real series\n",
      "5 --> Wow this book had me crying at the end!!\n",
      "5 --> Loved it sooooo much!!!!!\n",
      "5 --> A Wonderfully Emotionally Fulfilling Ending to this series\n",
      "5 --> perfect\n"
     ]
    }
   ],
   "source": [
    "for r in Reviewlist_withoutsentiment:\n",
    "    print r[0], \"-->\" ,r[1]"
   ]
  },
  {
   "cell_type": "code",
   "execution_count": 30,
   "metadata": {},
   "outputs": [
    {
     "name": "stdout",
     "output_type": "stream",
     "text": [
      "Qualitative analysis of our user:\n"
     ]
    }
   ],
   "source": [
    "print \"Qualitative analysis of our user:\"\n",
    "Reviews_user=[]\n",
    "for i in range(0, len(Training_DataFrame)):\n",
    "    item_id=Training_DataFrame.iloc[i]['asin']\n",
    "    if item_id =='B00LPUXAGK':\n",
    "        Reviews_user.append([Training_DataFrame.iloc[i]['overall'],Training_DataFrame.iloc[i]['summary'],Training_DataFrame.iloc[i]['reviewText']])\n",
    "    "
   ]
  },
  {
   "cell_type": "code",
   "execution_count": 31,
   "metadata": {},
   "outputs": [
    {
     "name": "stdout",
     "output_type": "stream",
     "text": [
      "5 --> You WILL NOT regret getting lost in this AMAZING book.\n",
      "5 --> Team Luca All The Way!\n",
      "4 --> In Review: More Than Forever (More #4) by Jay McLean\n",
      "5 --> Cam & Lucy Forever &lt;3\n",
      "5 --> A Must Read!!! Loved It!!!\n",
      "5 --> 5++ Cupcakes\n",
      "5 --> BEST READ of 2014\n",
      "5 --> They made my world stop &lt;3\n",
      "5 --> Loved, loved, loved!!!\n",
      "5 --> 5 is all I can rate her but believe me you will understand once you have read the story of a girl and a boy that fall in love. A\n",
      "5 --> How is it possible that this series keeps getting better and better?  Absolutely &#8220;unputabledownable&#8221;\n",
      "5 --> I Loved It!\n",
      "5 --> Real Talent At it's Best!\n",
      "5 --> too epic, can't function\n",
      "5 --> Cam is the man!!\n",
      "5 --> A love for always and forever\n",
      "5 --> Cam and Lucy - Best Book Yet!!\n",
      "5 --> MORE than ready for this book,  MORE than ready for....MORE!! AHHHMAZING!! Deserves MORE than 5 Stars!\n",
      "5 --> Amazing\n",
      "5 --> Cam and Lucy's Forever\n",
      "5 --> More Than Forever...\n",
      "5 --> Stunning Emotional Eloquence\n",
      "5 --> If I could give this Eleventy-three stars I would!!\n",
      "5 --> 5+++ And More stars!!!\n",
      "5 --> Jay McClean does it again!!!\n",
      "5 --> I just love this book faultless, from start to finish. A must read\n",
      "5 --> ELEVENTY THREE MILLION STARS!\n",
      "5 --> 5...NOT ENOUGH STARS!!!\n",
      "5 --> Wonderful\n",
      "4 --> Cavity sweet, predictable, and funny\n",
      "5 --> More Than Amazing!!!!!!!\n",
      "5 --> for a million words I could write, none seem to do justice.\n",
      "5 --> It only gets better\n",
      "5 --> Love this series\n",
      "5 --> This book is written brilliantly, its a total roller coaster ride of emotions\n",
      "5 --> Can't get enough of this series!!!!!\n",
      "5 --> Lucy and Cam &lt;3\n",
      "5 --> More than a 5 star read!!!!\n",
      "5 --> Best of the series, hands down!\n",
      "5 --> Amazing!\n",
      "5 --> I'm ruined once again...\n",
      "5 --> 5 MILLION FOREVER STARS\n",
      "5 --> Swoon!!!!\n",
      "5 --> Beautiful Love Story...\n",
      "5 --> Oh the feels!\n",
      "5 --> 5 BEST of the series STARS!\n",
      "5 --> Deserves More Than Eleventy Three Stars!\n",
      "5 --> Leaves you breathless\n"
     ]
    }
   ],
   "source": [
    "for r in Reviews_user:\n",
    "    print r[0], \"-->\" ,r[1]"
   ]
  },
  {
   "cell_type": "code",
   "execution_count": null,
   "metadata": {
    "collapsed": true
   },
   "outputs": [],
   "source": [
    "\"\"\"Conclusion: It can be concluded that including sentiment score of reviews is a good idea as we observed that a better product was recommended\"\"\""
   ]
  }
 ],
 "metadata": {
  "kernelspec": {
   "display_name": "Python 2",
   "language": "python",
   "name": "python2"
  },
  "language_info": {
   "codemirror_mode": {
    "name": "ipython",
    "version": 2
   },
   "file_extension": ".py",
   "mimetype": "text/x-python",
   "name": "python",
   "nbconvert_exporter": "python",
   "pygments_lexer": "ipython2",
   "version": "2.7.14"
  }
 },
 "nbformat": 4,
 "nbformat_minor": 2
}
