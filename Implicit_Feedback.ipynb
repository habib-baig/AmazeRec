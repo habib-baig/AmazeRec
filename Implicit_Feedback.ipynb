{
 "cells": [
  {
   "cell_type": "code",
   "execution_count": 1,
   "metadata": {},
   "outputs": [
    {
     "name": "stderr",
     "output_type": "stream",
     "text": [
      "/anaconda2/lib/python2.7/site-packages/h5py/__init__.py:34: FutureWarning: Conversion of the second argument of issubdtype from `float` to `np.floating` is deprecated. In future, it will be treated as `np.float64 == np.dtype(float).type`.\n",
      "  from ._conv import register_converters as _register_converters\n"
     ]
    }
   ],
   "source": [
    "import numpy as np\n",
    "\n",
    "from spotlight.cross_validation import random_train_test_split\n",
    "from spotlight.datasets.movielens import get_movielens_dataset\n",
    "from spotlight.factorization import explicit, implicit\n",
    "from spotlight.evaluation import mrr_score, rmse_score\n",
    "from collections import Counter\n",
    "import pandas as pd\n",
    "from string import punctuation\n",
    "from nltk.corpus import stopwords\n",
    "from nltk.tokenize import word_tokenize\n",
    "import re\n",
    "import numpy as np"
   ]
  },
  {
   "cell_type": "code",
   "execution_count": 2,
   "metadata": {
    "collapsed": true
   },
   "outputs": [],
   "source": [
    "already_expected=True\n",
    "def parse(path):\n",
    "  g = gzip.open(path, 'rb')\n",
    "  for l in g:\n",
    "    yield eval(l)\n",
    "\n",
    "def getDF(path):\n",
    "  i = 0\n",
    "  df = {}\n",
    "  for d in parse(path):\n",
    "    df[i] = d\n",
    "    i += 1\n",
    "  return pd.DataFrame.from_dict(df, orient='index')\n",
    "if already_expected:\n",
    "    df=pd.read_pickle('../reviews_Kindle_Store_10.h5')\n",
    "    Training_DataFrame = pd.read_pickle('../reviews_Kindle_Store_10_training.h5')\n",
    "    Testing_DataFrame = pd.read_pickle('../reviews_Kindle_Store_10_testing.h5')\n",
    "else:\n",
    "    df = getDF('../reviews_Kindle_Store_10.json.gz')\n",
    "    \n"
   ]
  },
  {
   "cell_type": "code",
   "execution_count": 3,
   "metadata": {
    "collapsed": true
   },
   "outputs": [],
   "source": [
    "\n",
    "# Lists of unique movies and users\n",
    "movie_list = list(set(df['asin'].values))\n",
    "user_list = list(set(df['reviewerID'].values))\n",
    "\n",
    "#Storing the indices of users to generate the Rating Memory Matrix\n",
    "UserIndices={}\n",
    "for i in range(len(user_list)):\n",
    "    UserIndices[user_list[i]] = i\n",
    "\n",
    "#Storing the indices of movies to generate the Rating Memory Matrix\n",
    "#These indices will be used to populate the UsersRatingMemory for Memory based Collaborative Filtering\n",
    "MovieIndices={}\n",
    "for j in range(len(movie_list)):\n",
    "    MovieIndices[movie_list[j]] = j"
   ]
  },
  {
   "cell_type": "code",
   "execution_count": 5,
   "metadata": {
    "collapsed": true
   },
   "outputs": [],
   "source": [
    "user_ids_tr=[]\n",
    "item_ids_tr=[]\n",
    "ratings_tr=[]\n",
    "for i in range(0, len(Training_DataFrame)):\n",
    "    item_id=Training_DataFrame.iloc[i]['asin']\n",
    "    user_id=Training_DataFrame.iloc[i]['reviewerID']\n",
    "    user_ind=UserIndices[user_id]\n",
    "    item_ind=MovieIndices[item_id]\n",
    "    user_ids_tr.append(user_ind)\n",
    "    item_ids_tr.append(item_ind)\n",
    "    ratings_tr.append(float(df.iloc[i]['overall']))"
   ]
  },
  {
   "cell_type": "code",
   "execution_count": 6,
   "metadata": {
    "collapsed": true
   },
   "outputs": [],
   "source": [
    "from spotlight.interactions import Interactions\n",
    "user_ids_list_tr=np.array(user_ids_tr,dtype=np.int32)\n",
    "item_ids_list_tr=np.array(item_ids_tr,dtype=np.int32)\n",
    "ratings_list_tr=np.array(ratings_tr,dtype=np.float32)\n",
    "dataset_tr = Interactions(user_ids_list_tr, item_ids_list_tr,ratings_list_tr)"
   ]
  },
  {
   "cell_type": "code",
   "execution_count": null,
   "metadata": {
    "collapsed": true
   },
   "outputs": [],
   "source": [
    "user_ids_tn=[]\n",
    "item_ids_tn=[]\n",
    "ratings_tn=[]\n",
    "for i in range(0, len(Testing_DataFrame)):\n",
    "    item_id=Testing_DataFrame.iloc[i]['asin']\n",
    "    user_id=Testing_DataFrame.iloc[i]['reviewerID']\n",
    "    user_ind=UserIndices[user_id]\n",
    "    item_ind=itemIndices[item_id]\n",
    "    user_ids_tn.append(user_ind)\n",
    "    item_ids_tn.append(item_ind)\n",
    "    ratings_tn.append(float(df.iloc[i]['overall']))"
   ]
  },
  {
   "cell_type": "code",
   "execution_count": null,
   "metadata": {
    "collapsed": true
   },
   "outputs": [],
   "source": [
    "from spotlight.interactions import Interactions\n",
    "user_ids_list_tn=np.array(user_ids_tn,dtype=np.int32)\n",
    "item_ids_list_tn=np.array(item_ids_tn,dtype=np.int32)\n",
    "ratings_list_tn=np.array(ratings_tn,dtype=np.float32)\n",
    "dataset_tn = Interactions(user_ids_list_tn, item_ids_list_tn,ratings_list_tn)"
   ]
  },
  {
   "cell_type": "code",
   "execution_count": 30,
   "metadata": {
    "collapsed": true
   },
   "outputs": [],
   "source": [
    "RANDOM_SEED = 42\n",
    "LATENT_DIM = 32\n",
    "NUM_EPOCHS = 10\n",
    "BATCH_SIZE = 256\n",
    "L2 = 1e-6\n",
    "LEARNING_RATE = 1e-3"
   ]
  },
  {
   "cell_type": "code",
   "execution_count": 31,
   "metadata": {
    "collapsed": true
   },
   "outputs": [],
   "source": [
    "explicit_model = explicit.ExplicitFactorizationModel(loss='regression',\n",
    "                                                     embedding_dim=LATENT_DIM,\n",
    "                                                     n_iter=NUM_EPOCHS,\n",
    "                                                     learning_rate=LEARNING_RATE,\n",
    "                                                     batch_size=BATCH_SIZE,\n",
    "                                                     l2=L2,\n",
    "                                                     random_state=np.random.RandomState(RANDOM_SEED))\n",
    "implicit_model = implicit.ImplicitFactorizationModel(loss='bpr',\n",
    "                                                     embedding_dim=LATENT_DIM,\n",
    "                                                     n_iter=NUM_EPOCHS,\n",
    "                                                     learning_rate=LEARNING_RATE,\n",
    "                                                     batch_size=BATCH_SIZE,\n",
    "                                                     l2=L2,\n",
    "                                                     random_state=np.random.RandomState(RANDOM_SEED))"
   ]
  },
  {
   "cell_type": "code",
   "execution_count": 34,
   "metadata": {
    "collapsed": true,
    "scrolled": false
   },
   "outputs": [],
   "source": [
    "implicit_model.fit(dataset_tr)"
   ]
  },
  {
   "cell_type": "code",
   "execution_count": 35,
   "metadata": {},
   "outputs": [
    {
     "name": "stdout",
     "output_type": "stream",
     "text": [
      "Implicit MRR: 0.02\n"
     ]
    }
   ],
   "source": [
    "print('Implicit MRR: {:.2f}'.format(mrr_score(implicit_model, dataset_tn, train=dataset_tr).mean()))"
   ]
  },
  {
   "cell_type": "code",
   "execution_count": null,
   "metadata": {
    "collapsed": true
   },
   "outputs": [],
   "source": [
    "explicit_model.fit(dataset_tr)"
   ]
  },
  {
   "cell_type": "code",
   "execution_count": 33,
   "metadata": {},
   "outputs": [
    {
     "name": "stdout",
     "output_type": "stream",
     "text": [
      "Implicit MRR: 0.01\n"
     ]
    }
   ],
   "source": [
    "print('Implicit MRR: {:.2f}'.format(mrr_score(explicit_model, dataset_tn, train=dataset_tr).mean()))"
   ]
  }
 ],
 "metadata": {
  "kernelspec": {
   "display_name": "Python 2",
   "language": "python",
   "name": "python2"
  },
  "language_info": {
   "codemirror_mode": {
    "name": "ipython",
    "version": 2
   },
   "file_extension": ".py",
   "mimetype": "text/x-python",
   "name": "python",
   "nbconvert_exporter": "python",
   "pygments_lexer": "ipython2",
   "version": "2.7.14"
  }
 },
 "nbformat": 4,
 "nbformat_minor": 2
}
